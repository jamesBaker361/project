{
 "cells": [
  {
   "cell_type": "code",
   "execution_count": 1,
   "metadata": {},
   "outputs": [],
   "source": [
    "import pandas as pd\n",
    "import numpy as np\n",
    "from matplotlib import cm, pyplot as plt\n",
    "from matplotlib.dates import YearLocator, MonthLocator"
   ]
  },
  {
   "cell_type": "code",
   "execution_count": 61,
   "metadata": {},
   "outputs": [],
   "source": [
    "def time_series_chart(**series):\n",
    "    colours = cm.rainbow(\n",
    "        np.linspace(0, 1,len(series )))\n",
    "    df=pd.DataFrame(series)\n",
    "    df.fillna(0,inplace=True)\n",
    "    colors = iter(cm.rainbow(np.linspace(0, 1, len(series))))\n",
    "    for k in series.keys():\n",
    "        plt.plot(df.index,df[k],color=next(colors),label=k)\n",
    "    plt.legend()\n",
    "    plt.show()"
   ]
  },
  {
   "cell_type": "code",
   "execution_count": 50,
   "metadata": {},
   "outputs": [],
   "source": [
    "def generate_signals(df,func): #df is the df, func is the function that takes each row as an argument, and returns 1 if buy, 0 if cash out and -1 if short\n",
    "    ret=pd.Series([0 for _ in range(len(df))],index=df.index)\n",
    "    for x in range(len(df)-1):\n",
    "        ret.iloc[x+1]=func(df.iloc[x])\n",
    "    return ret"
   ]
  },
  {
   "cell_type": "code",
   "execution_count": 84,
   "metadata": {},
   "outputs": [],
   "source": [
    "def test_signals(asset,signals): #asset is time series of  %change in price, signals is trade signals,1,0,-1, returns a multiplier reflecting the portfolio's change in value since yesterday\n",
    "    ret=pd.Series([1 for _ in range(len(asset))],index=asset.index)\n",
    "    for x in range(len(ret)):\n",
    "        ret.iloc[x]+=signals.iloc[x]*asset.iloc[x]\n",
    "    return ret"
   ]
  },
  {
   "cell_type": "code",
   "execution_count": 85,
   "metadata": {},
   "outputs": [],
   "source": [
    "def eval_signals(asset,signals): #reflects change in portfolio's value since the beginning\n",
    "    ret=test_signals(asset,signals)\n",
    "    for x in range(1,len(ret)):\n",
    "        ret.iloc[x]*=ret.iloc[x-1]\n",
    "    return ret"
   ]
  },
  {
   "cell_type": "code",
   "execution_count": 82,
   "metadata": {},
   "outputs": [],
   "source": [
    "bluh=pd.DataFrame(data={'a':[np.random.normal(0,1) for _ in range(10)], 'b':[np.random.normal(0,1) for _ in range(10)],'c':[np.random.normal(0,1) for _ in range(10)]},index=[x for x in range(10)])"
   ]
  },
  {
   "cell_type": "code",
   "execution_count": 87,
   "metadata": {},
   "outputs": [],
   "source": [
    "def hold_strat(row):\n",
    "    return 1"
   ]
  },
  {
   "cell_type": "code",
   "execution_count": 81,
   "metadata": {},
   "outputs": [],
   "source": [
    "def strat(row):\n",
    "    if sum(row)>.5:\n",
    "        return 1\n",
    "    if sum(row)<-.5:\n",
    "        return -1\n",
    "    return 0"
   ]
  },
  {
   "cell_type": "code",
   "execution_count": 83,
   "metadata": {},
   "outputs": [],
   "source": [
    "trade=generate_signals(bluh,strat)\n",
    "prices=pd.Series(np.random.normal(0,.05) for _ in range(10))"
   ]
  },
  {
   "cell_type": "code",
   "execution_count": 90,
   "metadata": {},
   "outputs": [],
   "source": [
    "clever=eval_signals(prices,trade)\n",
    "stupid=eval_signals(prices,generate_signals(bluh,hold_strat))"
   ]
  },
  {
   "cell_type": "code",
   "execution_count": 92,
   "metadata": {},
   "outputs": [
    {
     "data": {
      "image/png": "[encoded data removed]",
      "text/plain": [
       "<Figure size 432x288 with 1 Axes>"
      ]
     },
     "metadata": {
      "needs_background": "light"
     },
     "output_type": "display_data"
    }
   ],
   "source": [
    "time_series_chart(clever=clever,stupid=stupid)"
   ]
  },
  {
   "cell_type": "code",
   "execution_count": null,
   "metadata": {},
   "outputs": [],
   "source": []
  }
 ],
 "metadata": {
  "kernelspec": {
   "display_name": "Python 3",
   "language": "python",
   "name": "python3"
  },
  "language_info": {
   "codemirror_mode": {
    "name": "ipython",
    "version": 3
   },
   "file_extension": ".py",
   "mimetype": "text/x-python",
   "name": "python",
   "nbconvert_exporter": "python",
   "pygments_lexer": "ipython3",
   "version": "3.6.8"
  }
 },
 "nbformat": 4,
 "nbformat_minor": 2
}
