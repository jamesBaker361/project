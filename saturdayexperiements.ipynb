{
 "cells": [
  {
   "cell_type": "code",
   "execution_count": 1,
   "metadata": {},
   "outputs": [],
   "source": [
    "import quandl\n",
    "import pandas as pd\n",
    "import numpy as np\n",
    "import talib\n",
    "import csv\n",
    "import warnings\n",
    "import seaborn as sns\n",
    "from hmmlearn.hmm import GaussianHMM\n",
    "from matplotlib import cm, pyplot as plt\n",
    "from matplotlib.dates import YearLocator, MonthLocator"
   ]
  },
  {
   "cell_type": "code",
   "execution_count": 2,
   "metadata": {},
   "outputs": [],
   "source": [
    "def plot_in_sample_hidden_states(hmm_model,df,series):\n",
    "    \"\"\"\n",
    "    Plot the adjusted closing prices masked by \n",
    "    the in-sample hidden states as a mechanism\n",
    "    to understand the market regimes.\n",
    "    \"\"\"\n",
    "    # Predict the hidden states array\n",
    "    hidden_states = hmm_model.predict(df)\n",
    "    # Create the correctly formatted plot\n",
    "    fig, axs = plt.subplots(\n",
    "        hmm_model.n_components, \n",
    "        sharex=True, sharey=True,figsize=[20,20]\n",
    "    )\n",
    "    colours = cm.rainbow(\n",
    "        np.linspace(0, 1, hmm_model.n_components)\n",
    "    )\n",
    "    for i, (ax, colour) in enumerate(zip(axs, colours)):\n",
    "        mask = hidden_states == i\n",
    "        ax.plot_date(\n",
    "            df.index[mask], \n",
    "            series[mask], \n",
    "            \".\", linestyle='none', \n",
    "            c=colour\n",
    "        )\n",
    "        ax.set_title(\"Hidden State #%s\" % i)\n",
    "        ax.xaxis.set_major_locator(YearLocator())\n",
    "        ax.xaxis.set_minor_locator(MonthLocator())\n",
    "        ax.grid(True)\n",
    "    plt.show()"
   ]
  },
  {
   "cell_type": "code",
   "execution_count": 4,
   "metadata": {},
   "outputs": [],
   "source": [
    "def merge_with_spy(df,spy):\n",
    "    cut=df.loc['1993-01-29':]\n",
    "    spy_out=spy[cut.index.strftime('%Y-%m-%d')]\n",
    "    return cut,spy_out"
   ]
  },
  {
   "cell_type": "code",
   "execution_count": 15,
   "metadata": {},
   "outputs": [],
   "source": [
    "def series_merge(a,b): #sometimes the series will be different length, this function makes each series only have the intersection of their date indices\n",
    "    for i in a.index:\n",
    "        if i not in b.index:\n",
    "            a.drop(i,inplace=True)\n",
    "    for i in b.index:\n",
    "        if i not in b.index:\n",
    "            b.drop(i,inplace=True)\n",
    "    return(a,b)"
   ]
  },
  {
   "cell_type": "code",
   "execution_count": 17,
   "metadata": {},
   "outputs": [],
   "source": [
    "import trading as td\n",
    "from trading import generate_signals, eval_signals\n",
    "from commodities import hard_tech,hard,hard_pct\n",
    "from spy import spy,spy_pct"
   ]
  },
  {
   "cell_type": "code",
   "execution_count": 10,
   "metadata": {},
   "outputs": [],
   "source": [
    "def hold_strat(row):\n",
    "    return 1"
   ]
  },
  {
   "cell_type": "code",
   "execution_count": 18,
   "metadata": {},
   "outputs": [],
   "source": [
    "trade=generate_signals(hard_pct,hold_strat)\n",
    "hold_oil=eval_signals(hard_pct['pct_oil'],trade)"
   ]
  },
  {
   "cell_type": "code",
   "execution_count": 19,
   "metadata": {},
   "outputs": [
    {
     "name": "stderr",
     "output_type": "stream",
     "text": [
      "/Users/jamesbaker/miniconda3/lib/python3.6/site-packages/pandas/plotting/_matplotlib/converter.py:103: FutureWarning: Using an implicitly registered datetime converter for a matplotlib plotting method. The converter was registered by pandas on import. Future versions of pandas will require you to explicitly register matplotlib converters.\n",
      "\n",
      "To register the converters:\n",
      "\t>>> from pandas.plotting import register_matplotlib_converters\n",
      "\t>>> register_matplotlib_converters()\n",
      "  warnings.warn(msg, FutureWarning)\n"
     ]
    },
    {
     "data": {
      "image/png": "[encoded data removed]",
      "text/plain": [
       "<Figure size 432x288 with 1 Axes>"
      ]
     },
     "metadata": {
      "needs_background": "light"
     },
     "output_type": "display_data"
    }
   ],
   "source": [
    "td.time_series_chart(oil=hold_oil)"
   ]
  },
  {
   "cell_type": "code",
   "execution_count": 55,
   "metadata": {},
   "outputs": [],
   "source": [
    "train=hard_pct.iloc[:5000]\n",
    "test=hard_pct.iloc[5000:6000]\n",
    "hmm_model = GaussianHMM(n_components=3, covariance_type=\"full\", n_iter=1000).fit(train)"
   ]
  },
  {
   "cell_type": "code",
   "execution_count": 33,
   "metadata": {},
   "outputs": [
    {
     "data": {
      "text/plain": [
       "GaussianHMM(algorithm='viterbi', covariance_type='full', covars_prior=0.01,\n",
       "            covars_weight=1, init_params='stmc', means_prior=0, means_weight=0,\n",
       "            min_covar=0.001, n_components=4, n_iter=1000, params='stmc',\n",
       "            random_state=None, startprob_prior=1.0, tol=0.01,\n",
       "            transmat_prior=1.0, verbose=False)"
      ]
     },
     "execution_count": 33,
     "metadata": {},
     "output_type": "execute_result"
    }
   ],
   "source": [
    "hmm_model"
   ]
  },
  {
   "cell_type": "code",
   "execution_count": 37,
   "metadata": {},
   "outputs": [
    {
     "data": {
      "text/plain": [
       "array([3])"
      ]
     },
     "execution_count": 37,
     "metadata": {},
     "output_type": "execute_result"
    }
   ],
   "source": [
    "hmm_model.predict(test.iloc[0:1])"
   ]
  },
  {
   "cell_type": "code",
   "execution_count": 41,
   "metadata": {},
   "outputs": [],
   "source": [
    "def dumb_strat(row,hmm=hmm_model):\n",
    "    ret=hmm.predict([row])\n",
    "    return ret-1"
   ]
  },
  {
   "cell_type": "code",
   "execution_count": 48,
   "metadata": {},
   "outputs": [],
   "source": [
    "tradeHMM=generate_signals(hard_pct['2015-01-01':],dumb_strat)"
   ]
  },
  {
   "cell_type": "code",
   "execution_count": 49,
   "metadata": {},
   "outputs": [],
   "source": [
    "hmm_oil=eval_signals(hard_pct['pct_oil']['2015-01-01':],tradeHMM)"
   ]
  },
  {
   "cell_type": "code",
   "execution_count": 52,
   "metadata": {},
   "outputs": [
    {
     "data": {
      "image/png": "[encoded data removed]",
      "text/plain": [
       "<Figure size 432x288 with 1 Axes>"
      ]
     },
     "metadata": {
      "needs_background": "light"
     },
     "output_type": "display_data"
    }
   ],
   "source": [
    "td.time_series_chart(hmm_oil=hmm_oil['2015-01-01':],hold_oil=hold_oil['2015-01-01':])"
   ]
  },
  {
   "cell_type": "code",
   "execution_count": 57,
   "metadata": {},
   "outputs": [],
   "source": [
    "def simple_strat(row,hmm=hmm_model,mapping=[-1,0,1] ):\n",
    "    ret=hmm.predict([row])[0]\n",
    "    return mapping[ret]"
   ]
  },
  {
   "cell_type": "code",
   "execution_count": 58,
   "metadata": {},
   "outputs": [],
   "source": [
    "tradeHMM2=generate_signals(hard_pct,simple_strat)"
   ]
  },
  {
   "cell_type": "code",
   "execution_count": 59,
   "metadata": {},
   "outputs": [],
   "source": [
    "hmm_oil=eval_signals(hard_pct['pct_oil'],tradeHMM2)"
   ]
  },
  {
   "cell_type": "code",
   "execution_count": 60,
   "metadata": {},
   "outputs": [
    {
     "data": {
      "image/png": "[encoded data removed]",
      "text/plain": [
       "<Figure size 432x288 with 1 Axes>"
      ]
     },
     "metadata": {
      "needs_background": "light"
     },
     "output_type": "display_data"
    }
   ],
   "source": [
    "td.time_series_chart(hmm_oil=hmm_oil['2015-01-01':],hold_oil=hold_oil['2015-01-01':])"
   ]
  },
  {
   "cell_type": "code",
   "execution_count": 63,
   "metadata": {},
   "outputs": [],
   "source": [
    "train=hard_tech.iloc[:5000]\n",
    "test=hard_tech.iloc[5000:]\n",
    "model_tech0=GaussianHMM(n_components=3, covariance_type=\"full\", n_iter=1000).fit(train)"
   ]
  },
  {
   "cell_type": "code",
   "execution_count": 64,
   "metadata": {},
   "outputs": [],
   "source": [
    "def tech_strat(row,hmm=model_tech0,mapping=[-1,0,1] ):\n",
    "    ret=hmm.predict([row])[0]\n",
    "    return mapping[ret]\n",
    "tradeHMM_tech=generate_signals(test,tech_strat)"
   ]
  },
  {
   "cell_type": "code",
   "execution_count": 67,
   "metadata": {},
   "outputs": [],
   "source": [
    "prices,sigs=series_merge(hard_pct['pct_oil'],tradeHMM_tech)\n",
    "hmm_oil=eval_signals(prices,sigs)\n",
    "#td.time_series_chart(hmm_oil=hmm_oil['2015-01-01':],hold_oil=hold_oil['2015-01-01':])"
   ]
  },
  {
   "cell_type": "code",
   "execution_count": 68,
   "metadata": {},
   "outputs": [
    {
     "data": {
      "image/png": "[encoded data removed]",
      "text/plain": [
       "<Figure size 432x288 with 1 Axes>"
      ]
     },
     "metadata": {
      "needs_background": "light"
     },
     "output_type": "display_data"
    }
   ],
   "source": [
    "td.time_series_chart(hmm_oil=hmm_oil['2015-01-01':],hold_oil=hold_oil['2015-01-01':])"
   ]
  },
  {
   "cell_type": "code",
   "execution_count": 86,
   "metadata": {},
   "outputs": [],
   "source": [
    "from functools import total_ordering\n",
    "\n",
    "@total_ordering\n",
    "class MarkovStrategy:\n",
    "    def __init__(self,model,strat,params,returns,asset):\n",
    "        self.strat=strat #strat function that returns -1,0,1\n",
    "        self.params=params #the columns of the dataset taht feeds the input to the model\n",
    "        self.returns=returns # the series actual returns that this portfolio yielded\n",
    "        self.asset=asset #the name of the asset that this actually traded\n",
    "        self.model=model #the actual markov model object\n",
    "    \n",
    "    def __lt__(self,other):\n",
    "        return self.returns.iloc[len(self.returns)-1]<other.returns.iloc[len(other.returns)-1]\n",
    "    \n",
    "    def __eq__(self,other):\n",
    "        self.returns.iloc[len(self.returns)-1]==other.returns.iloc[len(other.returns)-1]\n",
    "        "
   ]
  },
  {
   "cell_type": "code",
   "execution_count": 84,
   "metadata": {},
   "outputs": [],
   "source": [
    "spy_pct.name='pct_spy'\n",
    "assets=hard_pct.join(spy_pct).dropna()"
   ]
  },
  {
   "cell_type": "code",
   "execution_count": 83,
   "metadata": {},
   "outputs": [
    {
     "data": {
      "text/html": [
       "<div>\n",
       "<style scoped>\n",
       "    .dataframe tbody tr th:only-of-type {\n",
       "        vertical-align: middle;\n",
       "    }\n",
       "\n",
       "    .dataframe tbody tr th {\n",
       "        vertical-align: top;\n",
       "    }\n",
       "\n",
       "    .dataframe thead th {\n",
       "        text-align: right;\n",
       "    }\n",
       "</style>\n",
       "<table border=\"1\" class=\"dataframe\">\n",
       "  <thead>\n",
       "    <tr style=\"text-align: right;\">\n",
       "      <th></th>\n",
       "      <th>pct_gold</th>\n",
       "      <th>pct_oil</th>\n",
       "      <th>pct_silver</th>\n",
       "      <th>pct_ruth</th>\n",
       "      <th>pct_irid</th>\n",
       "      <th>pct_pall</th>\n",
       "      <th>pct_rhod</th>\n",
       "      <th>pct_plat</th>\n",
       "      <th>pct_spy</th>\n",
       "    </tr>\n",
       "    <tr>\n",
       "      <th>Date</th>\n",
       "      <th></th>\n",
       "      <th></th>\n",
       "      <th></th>\n",
       "      <th></th>\n",
       "      <th></th>\n",
       "      <th></th>\n",
       "      <th></th>\n",
       "      <th></th>\n",
       "      <th></th>\n",
       "    </tr>\n",
       "  </thead>\n",
       "  <tbody>\n",
       "    <tr>\n",
       "      <th>1993-01-29</th>\n",
       "      <td>0.001728</td>\n",
       "      <td>-0.005397</td>\n",
       "      <td>0.006784</td>\n",
       "      <td>0.00</td>\n",
       "      <td>0.0</td>\n",
       "      <td>0.009009</td>\n",
       "      <td>0.000000</td>\n",
       "      <td>0.005510</td>\n",
       "      <td>0.000000</td>\n",
       "    </tr>\n",
       "    <tr>\n",
       "      <th>1993-02-01</th>\n",
       "      <td>-0.000590</td>\n",
       "      <td>0.002467</td>\n",
       "      <td>-0.010782</td>\n",
       "      <td>0.00</td>\n",
       "      <td>0.0</td>\n",
       "      <td>-0.008929</td>\n",
       "      <td>0.000000</td>\n",
       "      <td>-0.008219</td>\n",
       "      <td>0.007055</td>\n",
       "    </tr>\n",
       "    <tr>\n",
       "      <th>1993-02-02</th>\n",
       "      <td>-0.000712</td>\n",
       "      <td>-0.015748</td>\n",
       "      <td>0.002725</td>\n",
       "      <td>0.00</td>\n",
       "      <td>0.0</td>\n",
       "      <td>-0.009009</td>\n",
       "      <td>0.000000</td>\n",
       "      <td>-0.008287</td>\n",
       "      <td>0.002034</td>\n",
       "    </tr>\n",
       "    <tr>\n",
       "      <th>1993-02-04</th>\n",
       "      <td>-0.003910</td>\n",
       "      <td>0.014500</td>\n",
       "      <td>-0.001359</td>\n",
       "      <td>0.00</td>\n",
       "      <td>0.0</td>\n",
       "      <td>0.018182</td>\n",
       "      <td>0.000000</td>\n",
       "      <td>0.000000</td>\n",
       "      <td>0.004240</td>\n",
       "    </tr>\n",
       "    <tr>\n",
       "      <th>1993-02-05</th>\n",
       "      <td>-0.000548</td>\n",
       "      <td>-0.000986</td>\n",
       "      <td>0.001361</td>\n",
       "      <td>0.00</td>\n",
       "      <td>0.0</td>\n",
       "      <td>0.026786</td>\n",
       "      <td>0.000000</td>\n",
       "      <td>0.005571</td>\n",
       "      <td>-0.000667</td>\n",
       "    </tr>\n",
       "    <tr>\n",
       "      <th>...</th>\n",
       "      <td>...</td>\n",
       "      <td>...</td>\n",
       "      <td>...</td>\n",
       "      <td>...</td>\n",
       "      <td>...</td>\n",
       "      <td>...</td>\n",
       "      <td>...</td>\n",
       "      <td>...</td>\n",
       "      <td>...</td>\n",
       "    </tr>\n",
       "    <tr>\n",
       "      <th>2020-03-24</th>\n",
       "      <td>0.056237</td>\n",
       "      <td>-0.098586</td>\n",
       "      <td>0.101079</td>\n",
       "      <td>0.00</td>\n",
       "      <td>0.0</td>\n",
       "      <td>0.177331</td>\n",
       "      <td>0.000000</td>\n",
       "      <td>0.112540</td>\n",
       "      <td>0.090603</td>\n",
       "    </tr>\n",
       "    <tr>\n",
       "      <th>2020-03-25</th>\n",
       "      <td>0.026495</td>\n",
       "      <td>-0.013314</td>\n",
       "      <td>0.047533</td>\n",
       "      <td>0.00</td>\n",
       "      <td>0.0</td>\n",
       "      <td>0.065217</td>\n",
       "      <td>0.500000</td>\n",
       "      <td>0.046243</td>\n",
       "      <td>0.014970</td>\n",
       "    </tr>\n",
       "    <tr>\n",
       "      <th>2020-03-26</th>\n",
       "      <td>-0.007266</td>\n",
       "      <td>-0.200000</td>\n",
       "      <td>-0.007967</td>\n",
       "      <td>0.00</td>\n",
       "      <td>0.0</td>\n",
       "      <td>0.128280</td>\n",
       "      <td>0.212121</td>\n",
       "      <td>0.024862</td>\n",
       "      <td>0.058390</td>\n",
       "    </tr>\n",
       "    <tr>\n",
       "      <th>2020-03-27</th>\n",
       "      <td>0.012255</td>\n",
       "      <td>-0.067470</td>\n",
       "      <td>0.013966</td>\n",
       "      <td>0.00</td>\n",
       "      <td>0.0</td>\n",
       "      <td>0.020241</td>\n",
       "      <td>0.050000</td>\n",
       "      <td>0.001348</td>\n",
       "      <td>-0.029786</td>\n",
       "    </tr>\n",
       "    <tr>\n",
       "      <th>2020-03-30</th>\n",
       "      <td>-0.002794</td>\n",
       "      <td>-0.089147</td>\n",
       "      <td>-0.032369</td>\n",
       "      <td>0.04</td>\n",
       "      <td>0.0</td>\n",
       "      <td>-0.041368</td>\n",
       "      <td>0.019048</td>\n",
       "      <td>-0.014805</td>\n",
       "      <td>0.032476</td>\n",
       "    </tr>\n",
       "  </tbody>\n",
       "</table>\n",
       "<p>6467 rows × 9 columns</p>\n",
       "</div>"
      ],
      "text/plain": [
       "            pct_gold   pct_oil  pct_silver  pct_ruth  pct_irid  pct_pall  \\\n",
       "Date                                                                       \n",
       "1993-01-29  0.001728 -0.005397    0.006784      0.00       0.0  0.009009   \n",
       "1993-02-01 -0.000590  0.002467   -0.010782      0.00       0.0 -0.008929   \n",
       "1993-02-02 -0.000712 -0.015748    0.002725      0.00       0.0 -0.009009   \n",
       "1993-02-04 -0.003910  0.014500   -0.001359      0.00       0.0  0.018182   \n",
       "1993-02-05 -0.000548 -0.000986    0.001361      0.00       0.0  0.026786   \n",
       "...              ...       ...         ...       ...       ...       ...   \n",
       "2020-03-24  0.056237 -0.098586    0.101079      0.00       0.0  0.177331   \n",
       "2020-03-25  0.026495 -0.013314    0.047533      0.00       0.0  0.065217   \n",
       "2020-03-26 -0.007266 -0.200000   -0.007967      0.00       0.0  0.128280   \n",
       "2020-03-27  0.012255 -0.067470    0.013966      0.00       0.0  0.020241   \n",
       "2020-03-30 -0.002794 -0.089147   -0.032369      0.04       0.0 -0.041368   \n",
       "\n",
       "            pct_rhod  pct_plat   pct_spy  \n",
       "Date                                      \n",
       "1993-01-29  0.000000  0.005510  0.000000  \n",
       "1993-02-01  0.000000 -0.008219  0.007055  \n",
       "1993-02-02  0.000000 -0.008287  0.002034  \n",
       "1993-02-04  0.000000  0.000000  0.004240  \n",
       "1993-02-05  0.000000  0.005571 -0.000667  \n",
       "...              ...       ...       ...  \n",
       "2020-03-24  0.000000  0.112540  0.090603  \n",
       "2020-03-25  0.500000  0.046243  0.014970  \n",
       "2020-03-26  0.212121  0.024862  0.058390  \n",
       "2020-03-27  0.050000  0.001348 -0.029786  \n",
       "2020-03-30  0.019048 -0.014805  0.032476  \n",
       "\n",
       "[6467 rows x 9 columns]"
      ]
     },
     "execution_count": 83,
     "metadata": {},
     "output_type": "execute_result"
    }
   ],
   "source": []
  },
  {
   "cell_type": "code",
   "execution_count": 100,
   "metadata": {},
   "outputs": [],
   "source": [
    "def test_model_mapping(df=hard_tech, model=GaussianHMM,n_components=3,assets=assets,train_size=5000,begin_date='2015-01-01'):\n",
    "    #makes a Markov model using the df, and finds the optimal mapping from states to trade signals\n",
    "    train=df.iloc[:train_size]\n",
    "    hmm=model(n_components=3, covariance_type=\"full\", n_iter=1000).fit(train)\n",
    "    models=[]\n",
    "    for mapping in [[1,0,-1],[1,-1,0],[0,1,-1],[0,-1,1],[-1,0,1],[-1,1,0]]:\n",
    "        def strat(row,hmm=hmm,mapping=mapping):\n",
    "            ret=hmm.predict([row])[0]\n",
    "            return mapping[ret]\n",
    "        trade=generate_signals(df.loc[begin_date:],strat)\n",
    "        for asset in assets.columns:\n",
    "            prices,sigs=series_merge(assets[asset][begin_date:],trade)\n",
    "            perf=eval_signals(prices,sigs)\n",
    "            print(perf.iloc[len(perf)-1],asset,mapping)\n",
    "        "
   ]
  },
  {
   "cell_type": "code",
   "execution_count": 101,
   "metadata": {},
   "outputs": [
    {
     "name": "stdout",
     "output_type": "stream",
     "text": [
      "1.3288994577502868 pct_gold [1, 0, -1]\n",
      "6.95002996188381 pct_oil [1, 0, -1]\n",
      "1.6115238755027583 pct_silver [1, 0, -1]\n",
      "4.137931034482756 pct_ruth [1, 0, -1]\n",
      "2.6859259259259245 pct_irid [1, 0, -1]\n",
      "4.416826927391821 pct_pall [1, 0, -1]\n",
      "2.56736728255757 pct_rhod [1, 0, -1]\n",
      "1.3675320420951242 pct_plat [1, 0, -1]\n",
      "2.042125504605915 pct_spy [1, 0, -1]\n",
      "1.3513730914931184 pct_gold [1, -1, 0]\n",
      "1.1175158303115087 pct_oil [1, -1, 0]\n",
      "1.213941643032814 pct_silver [1, -1, 0]\n",
      "4.310344827586205 pct_ruth [1, -1, 0]\n",
      "2.7407407407407396 pct_irid [1, -1, 0]\n",
      "3.703897420225351 pct_pall [1, -1, 0]\n",
      "5.881392235609094 pct_rhod [1, -1, 0]\n",
      "0.943435084545159 pct_plat [1, -1, 0]\n",
      "1.7210920589891474 pct_spy [1, -1, 0]\n",
      "0.9833697785723988 pct_gold [0, 1, -1]\n",
      "6.219178085330998 pct_oil [0, 1, -1]\n",
      "1.3275134638899568 pct_silver [0, 1, -1]\n",
      "0.96 pct_ruth [0, 1, -1]\n",
      "0.98 pct_irid [0, 1, -1]\n",
      "1.1924808995177556 pct_pall [0, 1, -1]\n",
      "0.4365237310671707 pct_rhod [0, 1, -1]\n",
      "1.4495242592705004 pct_plat [0, 1, -1]\n",
      "1.186528921529811 pct_spy [0, 1, -1]\n",
      "1.0085785675158718 pct_gold [0, -1, 1]\n",
      "0.0 pct_oil [0, -1, 1]\n",
      "0.7282401459877876 pct_silver [0, -1, 1]\n",
      "1.04 pct_ruth [0, -1, 1]\n",
      "1.0202702702702704 pct_irid [0, -1, 1]\n",
      "0.7568458717395079 pct_pall [0, -1, 1]\n",
      "1.461282833340921 pct_rhod [0, -1, 1]\n",
      "0.6577233445887936 pct_plat [0, -1, 1]\n",
      "0.7921396198639757 pct_spy [0, -1, 1]\n",
      "0.6909532951721878 pct_gold [-1, 0, 1]\n",
      "0.0 pct_oil [-1, 0, 1]\n",
      "0.48730758094108817 pct_silver [-1, 0, 1]\n",
      "0.2071013278917151 pct_ruth [-1, 0, 1]\n",
      "0.360563729797268 pct_irid [-1, 0, 1]\n",
      "0.142555010238786 pct_pall [-1, 0, 1]\n",
      "0.1850028447552449 pct_rhod [-1, 0, 1]\n",
      "0.5667586933923622 pct_plat [-1, 0, 1]\n",
      "0.4173307586345476 pct_spy [-1, 0, 1]\n",
      "0.6850763216930197 pct_gold [-1, 1, 0]\n",
      "0.3675864602795459 pct_oil [-1, 1, 0]\n",
      "0.6691578095850544 pct_silver [-1, 1, 0]\n",
      "0.1991358922035722 pct_ruth [-1, 1, 0]\n",
      "0.3534002119867262 pct_irid [-1, 1, 0]\n",
      "0.1883540831254621 pct_pall [-1, 1, 0]\n",
      "0.12660303709465615 pct_rhod [-1, 1, 0]\n",
      "0.8616977001883637 pct_plat [-1, 1, 0]\n",
      "0.5268399006556578 pct_spy [-1, 1, 0]\n"
     ]
    }
   ],
   "source": [
    "test_model_mapping()"
   ]
  },
  {
   "cell_type": "code",
   "execution_count": null,
   "metadata": {},
   "outputs": [],
   "source": []
  }
 ],
 "metadata": {
  "kernelspec": {
   "display_name": "Python 3",
   "language": "python",
   "name": "python3"
  },
  "language_info": {
   "codemirror_mode": {
    "name": "ipython",
    "version": 3
   },
   "file_extension": ".py",
   "mimetype": "text/x-python",
   "name": "python",
   "nbconvert_exporter": "python",
   "pygments_lexer": "ipython3",
   "version": "3.6.8"
  }
 },
 "nbformat": 4,
 "nbformat_minor": 2
}
