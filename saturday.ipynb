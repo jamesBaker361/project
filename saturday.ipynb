{
 "cells": [
  {
   "cell_type": "code",
   "execution_count": 50,
   "metadata": {},
   "outputs": [],
   "source": [
    "import quandl\n",
    "import pandas as pd\n",
    "import numpy as np\n",
    "import talib\n",
    "import csv\n",
    "import warnings\n",
    "import seaborn as sns\n",
    "from hmmlearn.hmm import GaussianHMM\n",
    "from matplotlib import cm, pyplot as plt\n",
    "from matplotlib.dates import YearLocator, MonthLocator\n",
    "from functools import total_ordering"
   ]
  },
  {
   "cell_type": "code",
   "execution_count": 4,
   "metadata": {},
   "outputs": [],
   "source": [
    "from testing import test_model_mapping,series_merge\n",
    "from trading import generate_signals, eval_signals,time_series_chart\n",
    "from commodities import hard_tech,hard,hard_pct\n",
    "from spy import spy,spy_pct,benchmark_start"
   ]
  },
  {
   "cell_type": "markdown",
   "metadata": {},
   "source": [
    "These are just the various custom modules where data is pulled and manipulated into a usable form"
   ]
  },
  {
   "cell_type": "code",
   "execution_count": 55,
   "metadata": {},
   "outputs": [],
   "source": [
    "from pandas.plotting import register_matplotlib_converters\n",
    "register_matplotlib_converters()"
   ]
  },
  {
   "cell_type": "code",
   "execution_count": 39,
   "metadata": {},
   "outputs": [],
   "source": [
    "spy_pct.name='pct_spy'\n",
    "assets=hard_pct.join(spy_pct).dropna()"
   ]
  },
  {
   "cell_type": "code",
   "execution_count": 41,
   "metadata": {},
   "outputs": [],
   "source": [
    "def test_model_mapping(df,assets, model=GaussianHMM,n_components=3,train_size=5000,begin_date='2015-01-01'):\n",
    "    #makes a Markov model using the df, and finds the optimal mapping from states to trade signals\n",
    "    train=df.iloc[:train_size]\n",
    "    hmm=model(n_components=3, covariance_type=\"full\", n_iter=1000).fit(train)\n",
    "    models=[]\n",
    "    for mapping in [[x,y,z] for x in [-1,0,1] for y in [-1,0,1] for z in [-1,0,1]]:\n",
    "        def strat(row,hmm=hmm,mapping=mapping):\n",
    "            ret=hmm.predict([row])[0]\n",
    "            return mapping[ret]\n",
    "        trade=generate_signals(df.loc[begin_date:],strat)\n",
    "        for asset in assets.columns:\n",
    "            prices,sigs=series_merge(assets[asset][begin_date:],trade)\n",
    "            perf=eval_signals(prices,sigs)\n",
    "            models.append(MarkovStrategy(strat,perf,asset))\n",
    "    return sorted(models,reverse=True)"
   ]
  },
  {
   "cell_type": "markdown",
   "metadata": {},
   "source": [
    "This tries every possible combination of model, for every possible asset"
   ]
  },
  {
   "cell_type": "code",
   "execution_count": 42,
   "metadata": {},
   "outputs": [],
   "source": [
    "ranking=test_model_mapping(hard_tech,assets,train_size=5000)"
   ]
  },
  {
   "cell_type": "code",
   "execution_count": 46,
   "metadata": {},
   "outputs": [],
   "source": [
    "ben=benchmark_start('2015-01-01')"
   ]
  },
  {
   "cell_type": "markdown",
   "metadata": {},
   "source": [
    "This pulls in the benchmark, which we're taking to be the portfolio returns if one just invested $1 in the S and P 500 and never made any trades"
   ]
  },
  {
   "cell_type": "code",
   "execution_count": 47,
   "metadata": {},
   "outputs": [],
   "source": [
    "ben=pd.Series(ben,index=pd.to_datetime(ben.index))"
   ]
  },
  {
   "cell_type": "code",
   "execution_count": 48,
   "metadata": {},
   "outputs": [],
   "source": [
    "top_ranked=ranking[0].returns['2015-01-01':]\n",
    "ben,top_ranked=series_merge(ben,top_ranked)"
   ]
  },
  {
   "cell_type": "markdown",
   "metadata": {},
   "source": [
    "we get the hmm model with the highest performance and compare it to the benchmark"
   ]
  },
  {
   "cell_type": "code",
   "execution_count": 67,
   "metadata": {},
   "outputs": [
    {
     "data": {
      "image/png": "[encoded data removed]",
      "text/plain": [
       "<Figure size 432x288 with 1 Axes>"
      ]
     },
     "metadata": {
      "needs_background": "light"
     },
     "output_type": "display_data"
    },
    {
     "name": "stdout",
     "output_type": "stream",
     "text": [
      "benchmark yielded 27.37%, HMM yielded 759.44%\n"
     ]
    }
   ],
   "source": [
    "time_series_chart(sp=ben,hmm=top_ranked)\n",
    "print('benchmark yielded {:.2f}%, HMM yielded {:.2f}%'.format(100*(ben.iloc[len(ben)-1]-1),100*(top_ranked.iloc[len(top_ranked)-1]-1)))"
   ]
  },
  {
   "cell_type": "code",
   "execution_count": null,
   "metadata": {},
   "outputs": [],
   "source": []
  }
 ],
 "metadata": {
  "kernelspec": {
   "display_name": "Python 3",
   "language": "python",
   "name": "python3"
  },
  "language_info": {
   "codemirror_mode": {
    "name": "ipython",
    "version": 3
   },
   "file_extension": ".py",
   "mimetype": "text/x-python",
   "name": "python",
   "nbconvert_exporter": "python",
   "pygments_lexer": "ipython3",
   "version": "3.6.8"
  }
 },
 "nbformat": 4,
 "nbformat_minor": 2
}
