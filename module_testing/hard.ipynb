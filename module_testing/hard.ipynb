{
 "cells": [
  {
   "cell_type": "code",
   "execution_count": 1,
   "metadata": {},
   "outputs": [],
   "source": [
    "import quandl\n",
    "import pandas as pd\n",
    "import numpy as np\n",
    "import talib\n",
    "import csv"
   ]
  },
  {
   "cell_type": "code",
   "execution_count": 2,
   "metadata": {},
   "outputs": [],
   "source": [
    "gold=quandl.get(\"PERTH/GOLD_USD_D\", authtoken=\"B5RSB-jK5vYvZKyFBm4q\")\n",
    "silver=quandl.get(\"PERTH/SLVR_USD_D\", authtoken=\"B5RSB-jK5vYvZKyFBm4q\")\n",
    "oil=quandl.get(\"FRED/DCOILWTICO\", authtoken=\"B5RSB-jK5vYvZKyFBm4q\")\n",
    "ruthenium=quandl.get(\"JOHNMATT/RUTH\", authtoken=\"B5RSB-jK5vYvZKyFBm4q\")\n",
    "iridium=quandl.get(\"JOHNMATT/IRID\", authtoken=\"B5RSB-jK5vYvZKyFBm4q\")\n",
    "rhodium=quandl.get(\"JOHNMATT/RHOD\", authtoken=\"B5RSB-jK5vYvZKyFBm4q\")\n",
    "palladium=quandl.get(\"JOHNMATT/PALL\", authtoken=\"B5RSB-jK5vYvZKyFBm4q\")\n",
    "platinum=quandl.get(\"JOHNMATT/PLAT\", authtoken=\"B5RSB-jK5vYvZKyFBm4q\")"
   ]
  },
  {
   "cell_type": "code",
   "execution_count": 3,
   "metadata": {},
   "outputs": [],
   "source": [
    "oil=oil.rename(columns={\"Value\":'value'})"
   ]
  },
  {
   "cell_type": "code",
   "execution_count": 4,
   "metadata": {},
   "outputs": [],
   "source": [
    "gold_value=pd.DataFrame((gold['Bid Average']+gold['Ask Average'])/2).rename(columns={0:'value'})\n",
    "silver_value=pd.DataFrame((silver['Bid Average']+silver['Ask Average'])/2).rename(columns={0:'value_silver'})\n",
    "ruth_value=pd.DataFrame(ruthenium['New York 9:30']).rename(columns={'New York 9:30':'value_ruth'})\n",
    "irid_value=pd.DataFrame(iridium['New York 9:30']).rename(columns={'New York 9:30':'value_irid'})\n",
    "rhod_value=pd.DataFrame(rhodium['New York 9:30']).rename(columns={'New York 9:30':'value_rhod'})\n",
    "pall_value=pd.DataFrame(palladium['New York 9:30']).rename(columns={'New York 9:30':'value_pall'})\n",
    "plat_value=pd.DataFrame(platinum['New York 9:30']).rename(columns={'New York 9:30':'value_plat'})\n",
    "hard=gold_value.join(oil,how='outer',lsuffix='_gold',rsuffix='_oil').join(silver_value,how='outer').join(ruth_value,how='outer').join(irid_value,how='outer').join(pall_value,how='outer').join(rhod_value,how='outer').join(plat_value,how='outer').dropna()"
   ]
  },
  {
   "cell_type": "code",
   "execution_count": 5,
   "metadata": {},
   "outputs": [
    {
     "data": {
      "text/html": [
       "<div>\n",
       "<style scoped>\n",
       "    .dataframe tbody tr th:only-of-type {\n",
       "        vertical-align: middle;\n",
       "    }\n",
       "\n",
       "    .dataframe tbody tr th {\n",
       "        vertical-align: top;\n",
       "    }\n",
       "\n",
       "    .dataframe thead th {\n",
       "        text-align: right;\n",
       "    }\n",
       "</style>\n",
       "<table border=\"1\" class=\"dataframe\">\n",
       "  <thead>\n",
       "    <tr style=\"text-align: right;\">\n",
       "      <th></th>\n",
       "      <th>value_gold</th>\n",
       "      <th>value_oil</th>\n",
       "      <th>value_silver</th>\n",
       "      <th>value_ruth</th>\n",
       "      <th>value_irid</th>\n",
       "      <th>value_pall</th>\n",
       "      <th>value_rhod</th>\n",
       "      <th>value_plat</th>\n",
       "    </tr>\n",
       "    <tr>\n",
       "      <th>Date</th>\n",
       "      <th></th>\n",
       "      <th></th>\n",
       "      <th></th>\n",
       "      <th></th>\n",
       "      <th></th>\n",
       "      <th></th>\n",
       "      <th></th>\n",
       "      <th></th>\n",
       "    </tr>\n",
       "  </thead>\n",
       "  <tbody>\n",
       "    <tr>\n",
       "      <th>1992-07-01</th>\n",
       "      <td>343.400</td>\n",
       "      <td>21.90</td>\n",
       "      <td>4.045</td>\n",
       "      <td>32.0</td>\n",
       "      <td>200.0</td>\n",
       "      <td>83.0</td>\n",
       "      <td>2675.0</td>\n",
       "      <td>385.0</td>\n",
       "    </tr>\n",
       "    <tr>\n",
       "      <th>1992-07-02</th>\n",
       "      <td>344.300</td>\n",
       "      <td>22.08</td>\n",
       "      <td>4.050</td>\n",
       "      <td>32.0</td>\n",
       "      <td>200.0</td>\n",
       "      <td>84.0</td>\n",
       "      <td>2725.0</td>\n",
       "      <td>389.0</td>\n",
       "    </tr>\n",
       "    <tr>\n",
       "      <th>1992-07-03</th>\n",
       "      <td>346.130</td>\n",
       "      <td>22.08</td>\n",
       "      <td>4.060</td>\n",
       "      <td>32.0</td>\n",
       "      <td>200.0</td>\n",
       "      <td>84.0</td>\n",
       "      <td>2725.0</td>\n",
       "      <td>386.0</td>\n",
       "    </tr>\n",
       "    <tr>\n",
       "      <th>1992-07-06</th>\n",
       "      <td>346.250</td>\n",
       "      <td>21.87</td>\n",
       "      <td>4.060</td>\n",
       "      <td>32.0</td>\n",
       "      <td>200.0</td>\n",
       "      <td>84.0</td>\n",
       "      <td>2725.0</td>\n",
       "      <td>388.0</td>\n",
       "    </tr>\n",
       "    <tr>\n",
       "      <th>1992-07-07</th>\n",
       "      <td>346.550</td>\n",
       "      <td>21.51</td>\n",
       "      <td>4.060</td>\n",
       "      <td>32.0</td>\n",
       "      <td>200.0</td>\n",
       "      <td>83.0</td>\n",
       "      <td>2700.0</td>\n",
       "      <td>383.0</td>\n",
       "    </tr>\n",
       "    <tr>\n",
       "      <th>...</th>\n",
       "      <td>...</td>\n",
       "      <td>...</td>\n",
       "      <td>...</td>\n",
       "      <td>...</td>\n",
       "      <td>...</td>\n",
       "      <td>...</td>\n",
       "      <td>...</td>\n",
       "      <td>...</td>\n",
       "    </tr>\n",
       "    <tr>\n",
       "      <th>2020-03-24</th>\n",
       "      <td>1575.415</td>\n",
       "      <td>21.03</td>\n",
       "      <td>13.780</td>\n",
       "      <td>250.0</td>\n",
       "      <td>1510.0</td>\n",
       "      <td>1932.0</td>\n",
       "      <td>5500.0</td>\n",
       "      <td>692.0</td>\n",
       "    </tr>\n",
       "    <tr>\n",
       "      <th>2020-03-25</th>\n",
       "      <td>1617.155</td>\n",
       "      <td>20.75</td>\n",
       "      <td>14.435</td>\n",
       "      <td>250.0</td>\n",
       "      <td>1510.0</td>\n",
       "      <td>2058.0</td>\n",
       "      <td>8250.0</td>\n",
       "      <td>724.0</td>\n",
       "    </tr>\n",
       "    <tr>\n",
       "      <th>2020-03-26</th>\n",
       "      <td>1605.405</td>\n",
       "      <td>16.60</td>\n",
       "      <td>14.320</td>\n",
       "      <td>250.0</td>\n",
       "      <td>1510.0</td>\n",
       "      <td>2322.0</td>\n",
       "      <td>10000.0</td>\n",
       "      <td>742.0</td>\n",
       "    </tr>\n",
       "    <tr>\n",
       "      <th>2020-03-27</th>\n",
       "      <td>1625.080</td>\n",
       "      <td>15.48</td>\n",
       "      <td>14.520</td>\n",
       "      <td>250.0</td>\n",
       "      <td>1510.0</td>\n",
       "      <td>2369.0</td>\n",
       "      <td>10500.0</td>\n",
       "      <td>743.0</td>\n",
       "    </tr>\n",
       "    <tr>\n",
       "      <th>2020-03-30</th>\n",
       "      <td>1620.540</td>\n",
       "      <td>14.10</td>\n",
       "      <td>14.050</td>\n",
       "      <td>260.0</td>\n",
       "      <td>1510.0</td>\n",
       "      <td>2271.0</td>\n",
       "      <td>10700.0</td>\n",
       "      <td>732.0</td>\n",
       "    </tr>\n",
       "  </tbody>\n",
       "</table>\n",
       "<p>6648 rows × 8 columns</p>\n",
       "</div>"
      ],
      "text/plain": [
       "            value_gold  value_oil  value_silver  value_ruth  value_irid  \\\n",
       "Date                                                                      \n",
       "1992-07-01     343.400      21.90         4.045        32.0       200.0   \n",
       "1992-07-02     344.300      22.08         4.050        32.0       200.0   \n",
       "1992-07-03     346.130      22.08         4.060        32.0       200.0   \n",
       "1992-07-06     346.250      21.87         4.060        32.0       200.0   \n",
       "1992-07-07     346.550      21.51         4.060        32.0       200.0   \n",
       "...                ...        ...           ...         ...         ...   \n",
       "2020-03-24    1575.415      21.03        13.780       250.0      1510.0   \n",
       "2020-03-25    1617.155      20.75        14.435       250.0      1510.0   \n",
       "2020-03-26    1605.405      16.60        14.320       250.0      1510.0   \n",
       "2020-03-27    1625.080      15.48        14.520       250.0      1510.0   \n",
       "2020-03-30    1620.540      14.10        14.050       260.0      1510.0   \n",
       "\n",
       "            value_pall  value_rhod  value_plat  \n",
       "Date                                            \n",
       "1992-07-01        83.0      2675.0       385.0  \n",
       "1992-07-02        84.0      2725.0       389.0  \n",
       "1992-07-03        84.0      2725.0       386.0  \n",
       "1992-07-06        84.0      2725.0       388.0  \n",
       "1992-07-07        83.0      2700.0       383.0  \n",
       "...                ...         ...         ...  \n",
       "2020-03-24      1932.0      5500.0       692.0  \n",
       "2020-03-25      2058.0      8250.0       724.0  \n",
       "2020-03-26      2322.0     10000.0       742.0  \n",
       "2020-03-27      2369.0     10500.0       743.0  \n",
       "2020-03-30      2271.0     10700.0       732.0  \n",
       "\n",
       "[6648 rows x 8 columns]"
      ]
     },
     "execution_count": 5,
     "metadata": {},
     "output_type": "execute_result"
    }
   ],
   "source": [
    "hard"
   ]
  },
  {
   "cell_type": "code",
   "execution_count": 7,
   "metadata": {},
   "outputs": [],
   "source": [
    "hard_tech=pd.DataFrame()\n",
    "cols=hard.columns\n",
    "for x in cols:\n",
    "    hard_tech['macd'+x[x.find('_'):]]=talib.MACD(hard[x])[0]\n",
    "    hard_tech['rsi'+x[x.find('_'):]]=talib.RSI(hard[x])"
   ]
  },
  {
   "cell_type": "code",
   "execution_count": 9,
   "metadata": {},
   "outputs": [
    {
     "data": {
      "text/plain": [
       "macd_gold      6615\n",
       "rsi_gold       6634\n",
       "macd_oil       6615\n",
       "rsi_oil        6634\n",
       "macd_silver    6615\n",
       "rsi_silver     6634\n",
       "macd_ruth      6615\n",
       "rsi_ruth       6634\n",
       "macd_irid      6615\n",
       "rsi_irid       6634\n",
       "macd_pall      6615\n",
       "rsi_pall       6634\n",
       "macd_rhod      6615\n",
       "rsi_rhod       6634\n",
       "macd_plat      6615\n",
       "rsi_plat       6634\n",
       "dtype: int64"
      ]
     },
     "execution_count": 9,
     "metadata": {},
     "output_type": "execute_result"
    }
   ],
   "source": [
    "hard_tech.count()"
   ]
  },
  {
   "cell_type": "code",
   "execution_count": 10,
   "metadata": {},
   "outputs": [],
   "source": [
    "hard_tech=hard_tech.dropna()"
   ]
  },
  {
   "cell_type": "code",
   "execution_count": 12,
   "metadata": {},
   "outputs": [],
   "source": [
    "hard_pct=pd.DataFrame()\n",
    "cols=hard.columns\n",
    "for x in cols:\n",
    "    hard_pct['pct'+x[x.find('_'):]]=hard[x].pct_change()"
   ]
  },
  {
   "cell_type": "code",
   "execution_count": 16,
   "metadata": {},
   "outputs": [],
   "source": [
    "hard_pct=hard_pct.replace([np.inf, -np.inf,np.nan], 0)"
   ]
  },
  {
   "cell_type": "code",
   "execution_count": 18,
   "metadata": {},
   "outputs": [
    {
     "data": {
      "text/plain": [
       "pct_gold      6648\n",
       "pct_oil       6648\n",
       "pct_silver    6648\n",
       "pct_ruth      6648\n",
       "pct_irid      6648\n",
       "pct_pall      6648\n",
       "pct_rhod      6648\n",
       "pct_plat      6648\n",
       "dtype: int64"
      ]
     },
     "execution_count": 18,
     "metadata": {},
     "output_type": "execute_result"
    }
   ],
   "source": [
    "hard_pct.count()"
   ]
  },
  {
   "cell_type": "code",
   "execution_count": null,
   "metadata": {},
   "outputs": [],
   "source": []
  }
 ],
 "metadata": {
  "kernelspec": {
   "display_name": "Python 3",
   "language": "python",
   "name": "python3"
  },
  "language_info": {
   "codemirror_mode": {
    "name": "ipython",
    "version": 3
   },
   "file_extension": ".py",
   "mimetype": "text/x-python",
   "name": "python",
   "nbconvert_exporter": "python",
   "pygments_lexer": "ipython3",
   "version": "3.6.8"
  }
 },
 "nbformat": 4,
 "nbformat_minor": 2
}
