{
 "cells": [
  {
   "cell_type": "code",
   "execution_count": 7,
   "metadata": {},
   "outputs": [],
   "source": [
    "import pandas as pd\n",
    "import numpy as np\n",
    "import requests\n",
    "history=r=requests.get('https://api.worldtradingdata.com/api/v1/history?symbol=SPY&api_token=cif0zQNJZrTwHRktOAqNrz6JnYqPE4EmWtGlCawvjFYhMLMc1rVTPgZWLcMG').json()['history']\n",
    "closing=np.array([ r for r in reversed([float(v['close']) for v in history.values()])])\n",
    "spy=pd.Series(closing, index=reversed([h for h in history.keys()]))"
   ]
  },
  {
   "cell_type": "code",
   "execution_count": 8,
   "metadata": {},
   "outputs": [
    {
     "data": {
      "text/plain": [
       "1993-01-29     43.94\n",
       "1993-02-01     44.25\n",
       "1993-02-02     44.34\n",
       "1993-02-03     44.81\n",
       "1993-02-04     45.00\n",
       "               ...  \n",
       "2020-03-30    261.65\n",
       "2020-03-31    257.75\n",
       "2020-04-01    246.15\n",
       "2020-04-02    251.83\n",
       "2020-04-03    248.19\n",
       "Length: 6819, dtype: float64"
      ]
     },
     "execution_count": 8,
     "metadata": {},
     "output_type": "execute_result"
    }
   ],
   "source": [
    "spy"
   ]
  },
  {
   "cell_type": "code",
   "execution_count": 9,
   "metadata": {},
   "outputs": [],
   "source": [
    "spy_pct=spy.pct_change()\n",
    "spy_pct.iloc[0]=0"
   ]
  },
  {
   "cell_type": "code",
   "execution_count": 10,
   "metadata": {},
   "outputs": [
    {
     "data": {
      "text/plain": [
       "1993-01-29    0.000000\n",
       "1993-02-01    0.007055\n",
       "1993-02-02    0.002034\n",
       "1993-02-03    0.010600\n",
       "1993-02-04    0.004240\n",
       "                ...   \n",
       "2020-03-30    0.032476\n",
       "2020-03-31   -0.014905\n",
       "2020-04-01   -0.045005\n",
       "2020-04-02    0.023075\n",
       "2020-04-03   -0.014454\n",
       "Length: 6819, dtype: float64"
      ]
     },
     "execution_count": 10,
     "metadata": {},
     "output_type": "execute_result"
    }
   ],
   "source": [
    "spy_pct"
   ]
  },
  {
   "cell_type": "code",
   "execution_count": null,
   "metadata": {},
   "outputs": [],
   "source": []
  }
 ],
 "metadata": {
  "kernelspec": {
   "display_name": "Python 3",
   "language": "python",
   "name": "python3"
  },
  "language_info": {
   "codemirror_mode": {
    "name": "ipython",
    "version": 3
   },
   "file_extension": ".py",
   "mimetype": "text/x-python",
   "name": "python",
   "nbconvert_exporter": "python",
   "pygments_lexer": "ipython3",
   "version": "3.6.8"
  }
 },
 "nbformat": 4,
 "nbformat_minor": 2
}
